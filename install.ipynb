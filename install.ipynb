{
 "cells": [
  {
   "cell_type": "markdown",
   "id": "77c57c08-5daa-4702-b02b-fa8b85e0b533",
   "metadata": {},
   "source": [
    "# Instalción"
   ]
  },
  {
   "cell_type": "markdown",
   "id": "ffdf15bf-74ab-4329-8ce3-4774b5e3661a",
   "metadata": {},
   "source": [
    "Lo que hice para que funcionara fue lo siguiente:\n",
    "\n",
    "1. Ingresa comandos en Anaconda Powershell Command Prompt.\n",
    "2. Instala el kernel de C para Jupyter ejecutando el siguiente comando: `pip install jupyter-c-kernel`.\n",
    "3. Reemplaza el código en `kernel.py` de la siguiente manera:\n",
    "   - Cambia la línea: `#subprocess.call(['gcc', filepath, '-std=c11', '-rdynamic', '-ldl', '-o', self.master_path])`\n",
    "     por: `subprocess.call(['gcc', filepath, '-std=c11', '-o', self.master_path])`.\n",
    "   - Modifica la línea: `#cflags = ['-std=c11', '-fPIC', '-shared', '-rdynamic'] + cflags`\n",
    "     por: `cflags = ['-std=c11', '-shared'] + cflags`.\n",
    "   - Sustituye la línea: `#args = ['gcc', source_filename] + cflags + ['-o', binary_filename] + ldflags`\n",
    "     por: `args = ['gcc', source_filename] + cflags + ['-o', binary_filename]`.\n",
    "4. Copia el directorio `\\jupyter_c_kernel` desde `..\\anaconda3\\envs\\py39-ijava\\Lib\\site-packages\\jupyter_c_kernel` a `..\\anaconda3\\Lib\\site-packages\\jupyter_c_kernel`.\n",
    "5. Ejecuta el siguiente comando para instalar el kernel de C: `..\\anaconda3\\Lib\\site-packages\\jupyter_c_kernel\\install_c_kernel`.\n",
    "6. Instala el compilador GCC:\n",
    "   - Descarga MinGW32 y selecciona los paquetes `mingw32-base` y `mingw32-gcc-g++`.\n",
    "   - Ve a la sección de Instalación y aplica los cambios.\n",
    "   - Luego, selecciona Instalación nuevamente y finalmente cierra la instalación.\n",
    "7. Configura las variables de entorno:\n",
    "   - Abre el menú Inicio y busca \"env\".\n",
    "   - Selecciona \"Variables de entorno\" y edita la variable \"Path\".\n",
    "   - Agrega la ruta `C:\\MinGW\\bin` como una nueva ubicación en el Path.\n",
    "8. Verifica la versión de GCC ejecutando el comando: `gcc --version`.\n",
    "9. Ejecuta Jupyter Notebook."
   ]
  },
  {
   "cell_type": "markdown",
   "id": "96c0152e-6e96-4073-9113-e936fd5f9a9c",
   "metadata": {},
   "source": []
  }
 ],
 "metadata": {
  "kernelspec": {
   "display_name": "Python 3 (ipykernel)",
   "language": "python",
   "name": "python3"
  },
  "language_info": {
   "codemirror_mode": {
    "name": "ipython",
    "version": 3
   },
   "file_extension": ".py",
   "mimetype": "text/x-python",
   "name": "python",
   "nbconvert_exporter": "python",
   "pygments_lexer": "ipython3",
   "version": "3.10.13"
  }
 },
 "nbformat": 4,
 "nbformat_minor": 5
}
