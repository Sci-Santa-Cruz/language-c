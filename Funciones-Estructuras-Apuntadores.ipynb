{
 "cells": [
  {
   "cell_type": "markdown",
   "id": "1c3ed511-ce73-4fb3-8d66-70ad7041c4a0",
   "metadata": {},
   "source": [
    "# Funciones en C"
   ]
  },
  {
   "cell_type": "markdown",
   "id": "9617902e-f16a-4f99-aec0-54ac598125e2",
   "metadata": {},
   "source": [
    "La programación estructurada es un paradigma de programación que se centra en la organización lógica y ordenada de un programa de computadora. En el contexto de C, un lenguaje de programación ampliamente utilizado para programación estructurada, la importancia de las funciones y la modularidad es fundamental. \n",
    "\n",
    "Las funciones en C permiten dividir un programa en piezas más pequeñas y manejables, cada una con una tarea específica. Estas funciones pueden ser llamadas y reutilizadas en diferentes partes del programa, lo que promueve la reutilización de código y facilita el mantenimiento. Además, las funciones ayudan a mejorar la legibilidad del código, ya que representan una abstracción de una tarea particular.\n",
    "\n",
    "La modularidad, por otro lado, se refiere a la capacidad de dividir un programa en módulos o partes independientes, cada una de las cuales se enfoca en una funcionalidad específica. Esto no solo simplifica el diseño del programa, sino que también facilita la identificación y corrección de errores, ya que cada módulo se puede probar por separado.\n",
    "\n",
    "La programación estructurada en C hace hincapié en el uso de funciones y la modularidad para desarrollar programas más eficientes, legibles y mantenibles. Estas prácticas ayudan a los programadores a construir software robusto y escalable, lo que es esencial en el desarrollo de aplicaciones y sistemas complejos."
   ]
  },
  {
   "cell_type": "code",
   "execution_count": 20,
   "id": "f00a3e67-7feb-4d21-889a-c6ff07d16b62",
   "metadata": {},
   "outputs": [
    {
     "name": "stdout",
     "output_type": "stream",
     "text": [
      "hola\n",
      "5"
     ]
    }
   ],
   "source": [
    "#include <stdio.h>\n",
    "\n",
    "\n",
    "\n",
    "int main() {\n",
    "\n",
    "    int resultado ;\n",
    "\n",
    "    resultado = printf(\"hola\\n\");\n",
    "\n",
    "    printf(\"%d\", resultado);\n",
    "        \n",
    "    return 0;\n",
    "}\n",
    "\n",
    "\n"
   ]
  },
  {
   "cell_type": "markdown",
   "id": "4f49ecb8-ea31-4071-a0b2-a5d61150c2fa",
   "metadata": {},
   "source": [
    "Usualmente, hemos estado trabajando con un código similar a este. Toda nuestra línea de código está de forma secuencial. Ahora notarán en este ejemplo que estas líneas en naranja son exactamente iguales. Normalmente, cuando el código se repite muchas veces, significa que podemos optimizarlo un poco más, ya que es una pérdida de tiempo tener que volver a escribir el código una y otra vez, y siempre será igual. Aquí es donde entra el concepto de las __funciones__."
   ]
  },
  {
   "cell_type": "markdown",
   "id": "40a13598-22af-4452-b9dd-247c6d052fad",
   "metadata": {},
   "source": [
    "<div style=\"text-align: center;\">\n",
    "\n",
    "<img src=\"images/INTRO_FUNCION.png\" width=\"65%\">"
   ]
  },
  {
   "cell_type": "markdown",
   "id": "3cfddbfe-a30a-49bb-8b4c-b10f9d1b6acd",
   "metadata": {},
   "source": [
    "# ¿Qúes es una función ?"
   ]
  },
  {
   "cell_type": "markdown",
   "id": "0e7572c0-c4b2-4059-a6ed-0637ce528967",
   "metadata": {},
   "source": [
    "<div style=\"text-align: center;\">\n",
    "\n",
    "<img src=\"images/FUNCION_0.png\" width=\"65%\">"
   ]
  },
  {
   "cell_type": "markdown",
   "id": "79071cd2-76e6-42da-8f22-3b60cbeef604",
   "metadata": {},
   "source": [
    "Una función puede necesitar o no, información del mundo exterior para ejecutar acciones. Podemos verlo de la siguiente forma\n",
    "\n",
    "\n",
    "\n",
    "Imagina que la función principal en programación es como la administración de una casa, y esa administración está a cargo de alguien como `mamá` que opera desde dentro de la casa. En este escenario, la `casa` representa la función principal, siendo el punto de partida para todas las operaciones. La función principal, al igual que una casa, tiene un identificador único, como un nombre o número de teléfono, que la distingue de otras funciones.\n",
    "\n",
    "Desde la casa (función principal), puedes hacer solicitudes específicas, como pedir que traigan tortillas. Estas solicitudes se asemejan a las llamadas de función, donde especificas qué tarea deseas realizar y proporcionas parámetros, como la cantidad de tortillas y el dinero necesario para comprarlas. __Otra administración__ (o conexto de ejecución ) recibe estas solicitudes y se encarga de asignar un 'repartidor' para llevar a cabo la tarea solicitada.\n",
    "\n",
    "El 'repartidor' es parte de la función en sí, que ejecuta la tarea encomendada, en este caso, veamoslo como una variables que almacena, en este caso las tortillas y el cambio. Finalmente, el resultado de la tarea, que sería la entrega de la cantidad de tortillas y, posiblemente, el cambio, se considera como el valor de retorno de la función en programación.\n",
    "\n",
    "\n",
    "\n",
    "\n",
    "\n",
    "--- \n",
    "\n",
    "Es importante entdern que el mundo de la programación, cada función es como su propio pequeño mundo aislado. Piensa en una función como una caja mágica: puedes poner cosas adentro y obtener cosas fuera, pero lo que sucede dentro de esa caja es un misterio para el mundo exterior. Esta caja mágica tiene dos partes importantes: las variables y el cuerpo de la función.\n",
    "\n",
    "Dentro de la caja (función), puedes crear y usar tus propias variables. Estas variables son como pedazos de papel en los que puedes escribir información. Imagina que tienes una función llamada 'hornear_pastel()', dentro de la cual tienes una variable llamada 'ingredientes'. Puedes poner todos los ingredientes necesarios para hornear un pastel en esa variable, y la función 'hornear_pastel()' sabe cómo usarlos.\n",
    "\n",
    "Ahora, aquí está la parte clave: lo que sucede dentro de la función 'hornear_pastel()' no le importa al mundo exterior, especialmente al 'main()'. El 'main()' es como el maestro de ceremonias de tu programa, el lugar donde comienza todo. Pero el 'main()' no está interesado en los detalles internos de las funciones. Simplemente llama a 'hornear_pastel()' y espera a que esta función haga su magia.\n",
    "\n",
    "Cuando llamas a 'hornear_pastel()' desde el 'main()', simplemente dices: '¡Hola, función hornear_pastel()! Haz tu trabajo y dame el pastel cuando termines'. La función se ejecuta en su propio espacio, usando sus propias variables y ejecutando su propio código. Una vez que haya terminado de hornear el pastel (realizar sus tareas), te dará el pastel (devolverá un valor, si es necesario).\n",
    "\n",
    "Así que recuerda, en programación, cada función tiene su propio mundo aislado con sus propias reglas y recursos (variables). El 'main()' no necesita preocuparse por los detalles, solo llama a las funciones y confía en que harán su trabajo correctamente. Este concepto de 'aislamiento' y 'contexto propio' es una parte fundamental de cómo funcionan los programas informáticos y cómo se organizan para ser más eficientes y fáciles de entender."
   ]
  },
  {
   "cell_type": "markdown",
   "id": "5d4a5061-5326-469d-8fec-83431e80dab2",
   "metadata": {},
   "source": [
    "<div style=\"text-align: center;\">\n",
    "\n",
    "<img src=\"images/FUNCION_1.png\" width=\"65%\">"
   ]
  },
  {
   "cell_type": "markdown",
   "id": "c74ba39d-1bee-494b-b8c4-1811ccbbe540",
   "metadata": {},
   "source": [
    "# Partes de una función"
   ]
  },
  {
   "cell_type": "markdown",
   "id": "5d7c89ae-3cde-4196-8c48-bb7f060ab418",
   "metadata": {},
   "source": [
    "En el lenguaje de programación C, una función consta de varias partes importantes:\n",
    "\n",
    "1. **Tipo de Retorno:** Esto define qué tipo de valor devolverá la función. Puede ser `int` para enteros, `float` para números decimales, `void` si la función no devuelve ningún valor, u otros tipos de datos según sea necesario.\n",
    "\n",
    "2. **Nombre de la Función:** Es el identificador único de la función. Debe seguir las reglas de nomenclatura de C y ser descriptivo del propósito de la función.\n",
    "\n",
    "3. **Parámetros:** Los parámetros son variables que la función acepta como entrada. Estas variables se utilizan dentro de la función para realizar cálculos o ejecutar acciones. Los parámetros se definen entre paréntesis y se separan por comas.\n",
    "\n",
    "4. **Cuerpo de la Función:** El cuerpo de la función es un bloque de código delimitado por llaves `{}`. Aquí es donde se realiza el trabajo principal de la función, que puede incluir declaraciones de variables, operaciones y estructuras de control.\n",
    "\n",
    "5. **Instrucción de Retorno:** Si la función debe devolver un valor, se utiliza la instrucción `return` seguida del valor que se va a devolver. Esta parte es opcional en el caso de funciones que tienen tipo de retorno `void`."
   ]
  },
  {
   "cell_type": "markdown",
   "id": "a44558b2-fe47-467e-82dd-5989d85c41d3",
   "metadata": {},
   "source": [
    "<div style=\"text-align: center;\">\n",
    "\n",
    "<img src=\"images/FUNCION_3.png\" width=\"60%\">"
   ]
  },
  {
   "cell_type": "markdown",
   "id": "80282081-5fcd-4672-b993-067ff528e667",
   "metadata": {},
   "source": [
    "\n",
    "A continuación, un ejemplo simple de una función en C:\n",
    "\n",
    "```c\n",
    "int suma(int a, int b) {\n",
    "    \n",
    "    int resultado = a + b;\n",
    "    return resultado;\n",
    "}\n",
    "```\n",
    "\n",
    "En este ejemplo:\n",
    "\n",
    "- El tipo de retorno es `int`.\n",
    "- El nombre de la función es `suma`.\n",
    "- Hay dos parámetros de tipo `int`: `a` y `b`.\n",
    "- El cuerpo de la función calcula la suma de `a` y `b` y la almacena en `resultado`.\n",
    "- La función devuelve el valor de `resultado` usando `return`."
   ]
  },
  {
   "cell_type": "markdown",
   "id": "160edb92-f92d-4839-8e0f-347ddf8b554e",
   "metadata": {},
   "source": [
    "La asignación de valores que una función reporta es esencial para comprender su utilidad y cómo interactúa con otras partes de un programa. Cuando una función devuelve un valor, es como si estuviera entregando un regalo al programa principal. Este valor puede ser de diferentes tipos, como números, texto o incluso estructuras de datos más complejas. La magia radica en que puedes utilizar este valor de diferentes maneras: almacenarlo en una variable para futuros cálculos, mostrarlo al usuario, o pasarlo como entrada a otra función para realizar operaciones adicionales. La asignación de valores provenientes de funciones ofrece versatilidad y eficiencia, permitiendo a los programadores aprovechar al máximo el potencial de sus programas."
   ]
  },
  {
   "cell_type": "code",
   "execution_count": 32,
   "id": "c3397b47-10fa-4fc1-9a0a-014391ca2024",
   "metadata": {},
   "outputs": [
    {
     "name": "stdout",
     "output_type": "stream",
     "text": [
      "40\n",
      "Resultado :10"
     ]
    }
   ],
   "source": [
    "#include <stdio.h>\n",
    "\n",
    "int suma(int a, int b) {\n",
    "    // \n",
    "    int resultado = a + b;\n",
    "    \n",
    "    return resultado;\n",
    "}\n",
    "\n",
    "\n",
    "\n",
    "int main() {\n",
    "    // Declaración y asignación de valor inicial en \n",
    "    int numero_1 = 5;\n",
    "    int numero_2 = 5;\n",
    "    int resultado = 0;\n",
    "\n",
    "\n",
    "    // El resultado de la suma no se asigna\n",
    "    printf(\"%d\\n\",suma(20, 20));\n",
    "\n",
    "    // El resultado de la suma se asigna a la variable resultado\n",
    "    resultado = suma(numero_1, numero_2);\n",
    "\n",
    "    \n",
    "    printf(\"Resultado :%d\", resultado);\n",
    "\n",
    "    return 0;\n",
    "}"
   ]
  },
  {
   "cell_type": "markdown",
   "id": "7e838c8f-2fdb-4838-8920-fee4b2a7bee9",
   "metadata": {},
   "source": [
    "# Prototipo de una función \n",
    "\n",
    "En programación, el prototipado es una técnica que nos permite informar al compilador sobre la existencia de una función antes de que realmente la definamos en nuestro programa. Esto es útil porque, en algunos casos, llamamos a funciones antes de definirlas en nuestro código principal. El prototipo actúa como una especie de 'carta de presentación' para el compilador, diciéndole que una función con un cierto nombre y conjunto de parámetros será definida más adelante en el programa. De esta manera, el compilador sabe cómo manejar las llamadas a esa función antes de encontrar su definición real. El prototipo se coloca típicamente al principio de nuestro código, antes de la función principal, y sigue una sintaxis específica para describir la firma de la función, es decir, su nombre y los tipos de datos de sus parámetros."
   ]
  },
  {
   "cell_type": "code",
   "execution_count": 44,
   "id": "ef3c6792-629f-4f10-bb15-5b2537ec70ad",
   "metadata": {},
   "outputs": [
    {
     "name": "stdout",
     "output_type": "stream",
     "text": [
      "40 :\n",
      "¡Hola, mundo!\n"
     ]
    }
   ],
   "source": [
    "#include <stdio.h>\n",
    "\n",
    "// Prototipo de la función\n",
    "void holaMundo();\n",
    "int suma(int a, int b);\n",
    "\n",
    "\n",
    "int main() {\n",
    "    // Llamando a la función\n",
    "    holaMundo();\n",
    "\n",
    "    return 0;\n",
    "}\n",
    "\n",
    "// Definición de la función\n",
    "void holaMundo() {\n",
    "    printf(\"%d :\\n\",suma(20,20));\n",
    "    printf(\"¡Hola, mundo!\\n\");\n",
    "    return ;\n",
    "}\n",
    "\n",
    "int suma(int a, int b) {\n",
    "    int resultado = a + b;\n",
    "    \n",
    "    return resultado;\n",
    "}\n"
   ]
  },
  {
   "cell_type": "markdown",
   "id": "8afc1110-1474-4417-a3d9-b54696e9a1d5",
   "metadata": {},
   "source": []
  },
  {
   "cell_type": "code",
   "execution_count": null,
   "id": "be51dd07-13e6-480c-a17f-773f414587be",
   "metadata": {},
   "outputs": [],
   "source": []
  },
  {
   "cell_type": "markdown",
   "id": "7bec3681-82de-49e6-9418-05e1d9268898",
   "metadata": {},
   "source": [
    "# Estructuras \n",
    "\n",
    "Las estructuras son una poderosa herramienta que permite a los programadores crear sus propios tipos de datos personalizados, lo que les brinda un control sin precedentes sobre la organización y manipulación de la información en sus programas.\n",
    "\n",
    "En esta introducción, exploraremos el concepto de estructuras en __C__ y cómo se utilizan para modelar y gestionar datos de una manera más eficiente y efectiva. A medida que profundicemos en este tema, descubrirás cómo las estructuras pueden ser utilizadas para representar objetos del mundo real, como personas, automóviles o cualquier entidad con múltiples atributos."
   ]
  },
  {
   "cell_type": "markdown",
   "id": "6654a595-5b33-4d64-a8ad-dbff380c4e50",
   "metadata": {},
   "source": [
    "<div style=\"text-align: center;\">\n",
    "\n",
    "<img src=\"images/struct.png\" width=\"50%\">"
   ]
  },
  {
   "cell_type": "markdown",
   "id": "39c9938b-463b-4433-a27a-c62a0e69ada9",
   "metadata": {},
   "source": [
    "Imagina que una estructura en C es como una caja de herramientas personalizada. En esta caja de herramientas, cada herramienta representa un elemento de datos específico, como el `nombre`, `edad` y `dirección` de una persona en una estructura que representa información personal.\n",
    "\n",
    "Sin embargo, aquí está la clave: no puedes acceder directamente a toda la caja de herramientas en su conjunto, solo puedes tomar una herramienta a la vez. En otras palabras, una estructura es un tipo de dato personalizado que almacena diferentes elementos de datos, pero para trabajar con ella, debes acceder a cada elemento individualmente. Es como si tuvieras que abrir la caja y tomar una herramienta para usarla, y luego cerrar la caja antes de tomar otra herramienta diferente.\n",
    "\n",
    "Esta analogía refleja cómo funcionan las estructuras en `C`. Son como cajas de herramientas personalizadas que contienen información organizada, pero para acceder a esa información, debes hacerlo elemento por elemento en lugar de acceder a la estructura en su totalidad."
   ]
  },
  {
   "cell_type": "markdown",
   "id": "2b1fb37f-800d-4744-9abf-abc0d3a85623",
   "metadata": {},
   "source": [
    "<div style=\"text-align: center;\">\n",
    "\n",
    "<img src=\"images/struct_0.jpg\" width=\"50%\">"
   ]
  },
  {
   "cell_type": "markdown",
   "id": "8919265c-baf3-46a3-9d99-0c1b57f483c4",
   "metadata": {},
   "source": [
    "entonces podemis deducir que una `Estructura` ocupara el memoría lo que sumen sus elementos de forma indivudual. Como referencia podemos ver a continuación la tabla de tipos de datos y su tamaño en bytes."
   ]
  },
  {
   "cell_type": "markdown",
   "id": "fc0f2261-a26d-4245-8a04-36f6a398bd7e",
   "metadata": {},
   "source": [
    "<div style=\"text-align: center;\">\n",
    "\n",
    "<img src=\"images/sizes.png\" width=\"40%\">"
   ]
  },
  {
   "cell_type": "markdown",
   "id": "e4c911a5-9d18-424f-97b2-fef3b7da0514",
   "metadata": {},
   "source": [
    "en la figura siguiente podemos visualizar otro ejemplo :"
   ]
  },
  {
   "cell_type": "markdown",
   "id": "d9c9f06c-6f03-4b66-92a1-a0d49ecbe0dc",
   "metadata": {},
   "source": [
    "<div style=\"text-align: center;\">\n",
    "\n",
    "<img src=\"images/struct_1.png\" width=\"40%\">"
   ]
  },
  {
   "cell_type": "markdown",
   "id": "41c7af3a-b01e-424c-b190-016c17050f46",
   "metadata": {},
   "source": [
    "podemos utilizar la función `sizeof` para obtener el tamaño de cualquier variable, como ilustra el siguiente ejemplo "
   ]
  },
  {
   "cell_type": "markdown",
   "id": "ed19225a-43f1-4961-af7e-adb6896c9b27",
   "metadata": {},
   "source": [
    "<div style=\"text-align: center;\">\n",
    "<img src=\"images/struct_2.png\" width=\"40%\">"
   ]
  },
  {
   "cell_type": "markdown",
   "id": "ffcc1a07-791b-40af-9acd-e21c5ed8d486",
   "metadata": {},
   "source": [
    "Ahora sí, podemos pasar a código en C y como se define una estructura."
   ]
  },
  {
   "cell_type": "code",
   "execution_count": 53,
   "id": "a7413348-f777-4a6c-9d83-c742981c29c9",
   "metadata": {},
   "outputs": [
    {
     "name": "stdout",
     "output_type": "stream",
     "text": [
      "Name : Tata\n",
      "Price : 1021\n"
     ]
    }
   ],
   "source": [
    "// C program to pass structure as an argument to the\n",
    "// functions using Call By Value Method\n",
    "#include <stdio.h>\n",
    "\n",
    "struct car {\n",
    "    char name[30];\n",
    "    int price;\n",
    "\n",
    "};\n",
    " \n",
    "\n",
    "\n",
    "void print_car_info(struct car c)\n",
    "{\n",
    "    printf(\"Name : %s\", c.name);\n",
    "    printf(\"\\nPrice : %d\\n\", c.price);\n",
    "}\n",
    "\n",
    " \n",
    "int main()\n",
    "{\n",
    "    int a;\n",
    "    struct car variable_1  = { \"Tata\", 1021 };\n",
    "    struct car variable_2  = { \"Tata\", 1021 };\n",
    "\n",
    "    print_car_info(variable_1);\n",
    "    return 0;\n",
    "}"
   ]
  },
  {
   "cell_type": "markdown",
   "id": "a017a882-1ab4-4721-b77c-bd93493d4c8f",
   "metadata": {},
   "source": [
    "# Updated \n",
    "\n",
    "El proceso de \"actualización\" de una estructura en __C__ implica la modificación de sus elementos individuales, uno a uno, con el fin de reflejar cambios en los datos que representa. A diferencia de las variables nativas (int, float, char) una reasignación de toda la estructura, que reemplazaría completamente los valores existentes, __NO__ es posible."
   ]
  },
  {
   "cell_type": "code",
   "execution_count": 64,
   "id": "a32e815a-e4d4-4e63-bcde-45374e2fdeff",
   "metadata": {},
   "outputs": [
    {
     "name": "stdout",
     "output_type": "stream",
     "text": [
      "Name : Tata\n",
      "Price : 1021\n",
      "Name : Tota\n",
      "Price : 1\n"
     ]
    }
   ],
   "source": [
    "// C program to pass structure as an argument to the\n",
    "// functions using Call By Value Method\n",
    "#include <stdio.h>\n",
    "#include <string.h>\n",
    "\n",
    "struct car {\n",
    "    char name[30];\n",
    "    int price;\n",
    "};\n",
    " \n",
    "void print_car_info(struct car c)\n",
    "{\n",
    "    printf(\"Name : %s\", c.name);\n",
    "    printf(\"\\nPrice : %d\\n\", c.price);\n",
    "}\n",
    "\n",
    "\n",
    "struct car update_car_info(struct car c, char name [], int price)\n",
    "{\n",
    "    strcpy(c.name, name);\n",
    "    c.price = price;\n",
    "\n",
    "    return c;\n",
    "}\n",
    "\n",
    "\n",
    "\n",
    " \n",
    "int main()\n",
    "{\n",
    "    struct car c = { \"Tata\", 1021 };\n",
    "\n",
    "    print_car_info(c);\n",
    "    \n",
    "    c = update_car_info(c,\"Tota\",1);\n",
    "    \n",
    "    print_car_info(c);\n",
    "\n",
    "    return 0;\n",
    "}"
   ]
  },
  {
   "cell_type": "markdown",
   "id": "eaa910b3-424d-4e7a-b42e-b60da2c856fd",
   "metadata": {},
   "source": [
    "# Asignación de memoría en C"
   ]
  },
  {
   "cell_type": "markdown",
   "id": "b580b14e-70d3-4f48-b6dc-87ba3fb13e85",
   "metadata": {},
   "source": [
    "La asignación de memoria en C es una parte fundamental de la gestión de datos, y se adapta tanto a tipos de datos nativos, como `int`, `float` y `char`, como a datos compuestos, como `estructuras`, `arreglos` o `clases`. Para tipos de datos nativos, la asignación de memoria reserva espacio en la memoria principal del sistema para almacenar el valor correspondiente. Por ejemplo, al declarar una variable `int`, se asigna un espacio específico en memoria para almacenar un número entero. "
   ]
  },
  {
   "cell_type": "markdown",
   "id": "44a17749-a28a-4c90-a9fb-d2a66e459978",
   "metadata": {},
   "source": [
    "<div style=\"text-align: center;\">\n",
    "\n",
    "<img src=\"images/memoria.jpg\" width=\"80%\">"
   ]
  },
  {
   "cell_type": "markdown",
   "id": "9cccb3c7-e8d9-46ca-abc4-859abf75ab03",
   "metadata": {},
   "source": [
    "En el caso de datos compuestos, como estructuras, arreglos u otros tipos que agrupan elementos individuales, el compilador asigna memoria para cada uno de esos elementos por separado. La diferencia crucial radica en que, a diferencia de los datos nativos, no se puede acceder directamente a la totalidad del contenido de la variable compuesta.\n",
    "\n",
    "Para entenderlo mejor, consideremos un arreglo de algún tipo de dato (ya sea `int`, `float` o una estructura). El nombre de la variable que representa este arreglo es, en realidad, una variable que actúa como un \"puntero\" al inicio de dicho arreglo. En otras palabras, el nombre asignado a la variable simplemente señala dónde se encuentra almacenado el arreglo en la memoria, pero no proporciona acceso directo al dato en sí ni a todo el contenido que almacena."
   ]
  },
  {
   "cell_type": "markdown",
   "id": "a5a5265b-ea07-4d73-bbe5-359537d0ed91",
   "metadata": {},
   "source": [
    "<div style=\"text-align: center;\">\n",
    "\n",
    "<img src=\"images/vectores2.jpeg\" width=\"60%\">"
   ]
  },
  {
   "cell_type": "markdown",
   "id": "c8cbce5f-11c9-4c2a-b711-a31e6f14b030",
   "metadata": {},
   "source": [
    "# Paso por valor a funciónes"
   ]
  },
  {
   "cell_type": "markdown",
   "id": "d4788db2-a2c9-43aa-bd36-3122629034dc",
   "metadata": {},
   "source": [
    "En programación, el paso por valor en funciones se refiere a la forma en que se pasan los argumentos a una función. Cuando pasas un argumento por valor a una función, estás pasando una copia del valor original a la función en lugar de pasar la variable original en sí. Esto significa que cualquier modificación realizada en el parámetro dentro de la función no afectará a la variable original fuera de la función. El valor original permanecerá inalterado.\n",
    "\n",
    "Por ejemplo, en C o C++, si tienes una función como esta:\n",
    "\n",
    "```c\n",
    "void duplicar(int x) {\n",
    "    x = x * 2;\n",
    "}\n",
    "```\n",
    "\n",
    "Y luego llamas a esta función con un valor:\n",
    "\n",
    "```c\n",
    "int numero = 5;\n",
    "duplicar(numero);\n",
    "```\n",
    "\n",
    "La función `duplicar` recibe una copia del valor de `numero`, que es 5, no la variable `numero` en sí. Por lo tanto, si la función modifica `x` dentro de ella, no afectará a la variable `numero`. Después de llamar a la función, `numero` seguirá siendo igual a 5.\n",
    "\n",
    "El paso por valor es útil cuando deseas asegurarte de que los valores originales no se modifiquen dentro de la función y quieres evitar efectos secundarios no deseados en otras partes del programa. Sin embargo, en algunos casos, es necesario utilizar el paso por referencia (utilizando punteros o referencias en lenguajes como C++), si deseas que los cambios realizados en la función afecten a las variables originales."
   ]
  },
  {
   "cell_type": "markdown",
   "id": "daf15f01-13c9-451d-965b-d616a9ccede1",
   "metadata": {},
   "source": [
    "Por ejemplo, si recapitulamos el paso de parámetros a una función, podemos verlos de la siguiente forma:"
   ]
  },
  {
   "cell_type": "markdown",
   "id": "fbe62f7c-c780-4c7b-8d4e-16bc5e81bbac",
   "metadata": {},
   "source": [
    "<div style=\"text-aliçgn: center;\">\n",
    "<img src=\"images/funcion-memoria.jpg\" width=\"60%\">"
   ]
  },
  {
   "cell_type": "markdown",
   "id": "c689f49b-e54e-4135-a1a1-ce06efdfa7f4",
   "metadata": {},
   "source": [
    "la siguiente imagen , muestra a un alto nivel como funciona la asignación de memoria en las variables involucradas"
   ]
  },
  {
   "cell_type": "markdown",
   "id": "42413241-19cc-4ff0-aba3-9efa183614c3",
   "metadata": {},
   "source": [
    "<div style=\"text-align: center;\">\n",
    "<img src=\"images/funcion-memoria-2.jpg\" width=\"60%\">"
   ]
  },
  {
   "cell_type": "markdown",
   "id": "5127e148-9527-4e38-8672-2e7f65f8ccdb",
   "metadata": {},
   "source": [
    "Cuando una función termina de ejecutarse en un programa, las variables locales que se declararon dentro de esa función se destruyen y su memoria se libera automáticamente. Esto se aplica tanto a las variables que se pasaron como argumentos a la función como a las que se declararon localmente dentro de la función.\n",
    "\n",
    "__Variables Locales__: Las variables locales son aquellas que se declaran dentro de una función y solo son visibles y accesibles dentro de esa función. Una vez que la función termina su ejecución, estas variables se destruyen y su espacio en la memoria se libera. Esto significa que cualquier valor almacenado en estas variables se pierde después de que la función haya finalizado."
   ]
  },
  {
   "cell_type": "markdown",
   "id": "2128e09b-e753-4611-8014-86fb4d70eb6f",
   "metadata": {},
   "source": [
    "### ¿Que pasa con las variables que se especifican el `return`?\n",
    "\n",
    "Las variables que se utilizan en la instrucción `return` de una función son aquellas que almacenan el valor que se va a devolver desde la función al punto de llamada. Estas variables son temporales y su vida útil se limita a la ejecución de la función.\n",
    "\n",
    "Cuando una función ejecuta la instrucción `return` y devuelve un valor, ya sea de un tipo de dato simple (como un entero, flotante, etc.) o incluso una estructura de datos más compleja, lo que sucede es lo siguiente:\n",
    "\n",
    "1. La función calcula el valor que se especifica en `return`.\n",
    "\n",
    "2. Ese valor se copia en una ubicación de memoria temporal reservada por el sistema para almacenar el valor de retorno.\n",
    "\n",
    "3. La función completa su ejecución y regresa el control al punto de llamada.\n",
    "\n",
    "4. En el punto de llamada, el valor de retorno se utiliza según lo especificado. Puedes asignarlo a una variable, usarlo en una expresión o simplemente ignorarlo si no es necesario.\n",
    "\n",
    "Es importante destacar que la variable que almacena el valor de retorno en la función no tiene una vida más allá de la ejecución de la función. Una vez que la función se completa, esa variable se destruye y su memoria se libera automáticamente. Esto significa que no puedes acceder a esa variable de retorno desde fuera de la función, y cualquier intento de hacerlo resultará en un comportamiento indefinido.\n",
    "\n",
    "Aquí hay un ejemplo en C para ilustrar cómo funciona esto:\n",
    "\n",
    "```c\n",
    "int suma(int a, int b) {\n",
    "    int resultado = a + b;\n",
    "    return resultado;\n",
    "}\n",
    "\n",
    "int main() {\n",
    "    int x = 5;\n",
    "    int y = 7;\n",
    "    int z = suma(x, y); // Llamamos a la función y asignamos su valor de retorno a 'z'\n",
    "    // En este punto, 'z' contiene el resultado de la çsuma y 'resultado' en 'suma' ya no existe\n",
    "    return 0;\n",
    "}\n",
    "```\n",
    "\n",
    "En este ejemplo, la variable `resultado` en la función `suma` se utiliza para calcular la suma de `a` y `b`, pero desaparece una vez que la función retorna su valor. El valor de retorno se asigna a la variable `z` en la función `main`, y eso es lo que está disponible fuera de la función `suma`."
   ]
  },
  {
   "cell_type": "markdown",
   "id": "c56bcf7d-c827-4c18-832b-b7a87fb3ad52",
   "metadata": {},
   "source": [
    "Se sigue la misma lógica  cuando se trata de estructuras, por ejemplo, observemos el siguiente código:"
   ]
  },
  {
   "cell_type": "code",
   "execution_count": 47,
   "id": "6fe2d126-56e7-4d6c-ae21-411a0be3e36f",
   "metadata": {},
   "outputs": [],
   "source": [
    "#include <stdio.h>\n",
    "#include <string.h>\n",
    "\n",
    "// Definición de la estructura\n",
    "struct concat {\n",
    "    char st[10];\n",
    "    int n1;\n",
    "    float n2;\n",
    "};\n",
    "\n",
    "\n",
    "struct concat modificarValor(struct concat c1, int nuevoValor) {\n",
    "    c1.n1 = nuevoValor;\n",
    "    return c1;\n",
    "}\n",
    "\n",
    "int main() {\n",
    "    struct concat d1={\"Hola\", 42, 3.14};\n",
    "    struct concat d2;\n",
    "\n",
    "    d2 = modificarValor(d1, 100);\n",
    "    d1 = modificarValor(d1, 99);\n",
    "    \n",
    "    return 0;\n",
    "}\n"
   ]
  },
  {
   "cell_type": "markdown",
   "id": "a87b98bd-9fef-4da7-bc39-f8df6305fee0",
   "metadata": {},
   "source": [
    "Tratar de deducir junto con la imagen la lógica subyacente y explicalo !!!"
   ]
  },
  {
   "cell_type": "markdown",
   "id": "f4388a06-30da-45e3-9db4-99af3ea81d6f",
   "metadata": {},
   "source": [
    "<div style=\"text-align: center;\">\n",
    "<img src=\"images/struct_memoria-3.jpg\" width=\"60%\">"
   ]
  },
  {
   "cell_type": "code",
   "execution_count": null,
   "id": "af33f2c4-cd27-4853-af3b-3c5b3c73c567",
   "metadata": {},
   "outputs": [],
   "source": []
  }
 ],
 "metadata": {
  "kernelspec": {
   "display_name": "C",
   "language": "c",
   "name": "c"
  },
  "language_info": {
   "file_extension": ".c",
   "mimetype": "text/plain",
   "name": "c"
  }
 },
 "nbformat": 4,
 "nbformat_minor": 5
}
